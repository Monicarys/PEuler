{
 "cells": [
  {
   "cell_type": "code",
   "execution_count": 1,
   "id": "cc579a54-5846-4a4a-993e-ee74db172a39",
   "metadata": {},
   "outputs": [],
   "source": [
    "def Factorial (n):\n",
    "  f = 1\n",
    "  for i in range (1,n+1):\n",
    "    f = f * i\n",
    "  return f"
   ]
  },
  {
   "cell_type": "code",
   "execution_count": null,
   "id": "3f3fb54f-476d-4d87-9699-2fce33e42c91",
   "metadata": {},
   "outputs": [],
   "source": []
  }
 ],
 "metadata": {
  "kernelspec": {
   "display_name": "Python 3",
   "language": "python",
   "name": "python3"
  },
  "language_info": {
   "codemirror_mode": {
    "name": "ipython",
    "version": 3
   },
   "file_extension": ".py",
   "mimetype": "text/x-python",
   "name": "python",
   "nbconvert_exporter": "python",
   "pygments_lexer": "ipython3",
   "version": "3.8.8"
  }
 },
 "nbformat": 4,
 "nbformat_minor": 5
}
