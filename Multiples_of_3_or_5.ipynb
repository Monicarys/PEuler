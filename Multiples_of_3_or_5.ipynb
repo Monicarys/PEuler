{
 "cells": [
  {
   "cell_type": "markdown",
   "id": "ab2933bd-3225-409a-b9a7-49ccb18d217e",
   "metadata": {},
   "source": [
    "**Multiples of 3 or 5**\n",
    "\n",
    "\n",
    "Problem 1\n",
    "If we list all the natural numbers below 10 that are multiples of 3 or 5, we get 3, 5, 6 and 9. The sum of these multiples is 23.\n",
    "\n",
    "Find the sum of all the multiples of 3 or 5 below 1000."
   ]
  },
  {
   "cell_type": "code",
   "execution_count": 26,
   "id": "0a34a507-8fb6-409f-8c34-81c6485ba5cc",
   "metadata": {},
   "outputs": [
    {
     "name": "stdout",
     "output_type": "stream",
     "text": [
      "233168\n"
     ]
    }
   ],
   "source": [
    "sum=0\n",
    "for x in range(1, 1000):\n",
    "    if x%3== 0 or x%5 == 0:\n",
    "      sum += x\n",
    "print (sum)"
   ]
  }
 ],
 "metadata": {
  "kernelspec": {
   "display_name": "Python 3",
   "language": "python",
   "name": "python3"
  },
  "language_info": {
   "codemirror_mode": {
    "name": "ipython",
    "version": 3
   },
   "file_extension": ".py",
   "mimetype": "text/x-python",
   "name": "python",
   "nbconvert_exporter": "python",
   "pygments_lexer": "ipython3",
   "version": "3.8.8"
  }
 },
 "nbformat": 4,
 "nbformat_minor": 5
}
