{
 "cells": [
  {
   "cell_type": "code",
   "execution_count": 1,
   "id": "81ed85e5-3444-45db-95a9-1ebf835cab25",
   "metadata": {},
   "outputs": [],
   "source": [
    "# Reverse String Function\n",
    "def reverse_string(s):\n",
    "  x=''\n",
    "  for i in range (1,len(s)+1):\n",
    "    x=x+s[-i]\n",
    "  return x"
   ]
  },
  {
   "cell_type": "code",
   "execution_count": 11,
   "id": "3c21e1ea-cf2a-434e-b10f-656ecec0efc3",
   "metadata": {},
   "outputs": [],
   "source": [
    "def reverse_string2(s):\n",
    "    x=s[::-1]\n",
    "    \n",
    "    return x"
   ]
  },
  {
   "cell_type": "code",
   "execution_count": 18,
   "id": "89de4c00-b577-46d4-b1c7-57b0ed12c9b6",
   "metadata": {},
   "outputs": [],
   "source": [
    "s='paralelepipedo'"
   ]
  },
  {
   "cell_type": "code",
   "execution_count": 17,
   "id": "83953896-063f-46f2-9fab-f5856fcf3386",
   "metadata": {},
   "outputs": [
    {
     "name": "stdout",
     "output_type": "stream",
     "text": [
      "Ejemplo reverse_string (paralelepipedo) : odepipelelarap en 0.00013518333435058594 segundos.\n",
      "Ejemplo reverse_string2 (paralelepipedo): odepipelelarap en 0.0011057853698730469 segundos.\n"
     ]
    }
   ],
   "source": [
    "from time import time as t\n",
    "t0 = t()\n",
    "print(\"Ejemplo reverse_string (paralelepipedo) :\", reverse_string(s),\"en\",t()-t0,\"segundos.\")\n",
    "print(\"Ejemplo reverse_string2 (paralelepipedo):\", reverse_string2(s),\"en\",t()-t0,\"segundos.\")\n",
    "\n"
   ]
  },
  {
   "cell_type": "code",
   "execution_count": null,
   "id": "1a1b6649-10b0-4348-8124-0e277a00e106",
   "metadata": {},
   "outputs": [],
   "source": []
  }
 ],
 "metadata": {
  "kernelspec": {
   "display_name": "Python 3",
   "language": "python",
   "name": "python3"
  },
  "language_info": {
   "codemirror_mode": {
    "name": "ipython",
    "version": 3
   },
   "file_extension": ".py",
   "mimetype": "text/x-python",
   "name": "python",
   "nbconvert_exporter": "python",
   "pygments_lexer": "ipython3",
   "version": "3.8.8"
  }
 },
 "nbformat": 4,
 "nbformat_minor": 5
}
