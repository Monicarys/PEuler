{
 "cells": [
  {
   "cell_type": "markdown",
   "id": "9bc9b0cf-8569-49c9-808b-52ec6beee928",
   "metadata": {},
   "source": [
    "Veamos la diferencia entre if y while, con if la funcion de factores primos no funciona correctamente porque una vez que un i cumplio la condicion se pasa al siguiente, mientras que con while, puede volver a ocupar ese mismo i para el siguiente pvalor de n "
   ]
  },
  {
   "cell_type": "code",
   "execution_count": 1,
   "id": "d03d593c-72a3-487e-97bb-d9fdb440c499",
   "metadata": {},
   "outputs": [],
   "source": [
    "def  prime_factorsif(n):\n",
    "    prime_divisors=[]\n",
    "    for i in range (2,n+1):\n",
    "        if n%i==0:\n",
    "            prime_divisors.append(i)\n",
    "            n=n/i\n",
    "    return prime_divisors"
   ]
  },
  {
   "cell_type": "code",
   "execution_count": 2,
   "id": "4bc2870d-d1bb-4c2d-b3d8-35f15d043696",
   "metadata": {},
   "outputs": [
    {
     "data": {
      "text/plain": [
       "[2, 3, 4, 5]"
      ]
     },
     "execution_count": 2,
     "metadata": {},
     "output_type": "execute_result"
    }
   ],
   "source": [
    "prime_factorsif(120)"
   ]
  },
  {
   "cell_type": "code",
   "execution_count": 3,
   "id": "31768101-277e-4638-ba93-6fcf91682948",
   "metadata": {},
   "outputs": [],
   "source": [
    "def  prime_factorswhile(n):\n",
    "    prime_divisors=[]\n",
    "    for i in range (2,n+1):\n",
    "        while n%i==0:\n",
    "            prime_divisors.append(i)\n",
    "            n=n/i\n",
    "    return prime_divisors"
   ]
  },
  {
   "cell_type": "code",
   "execution_count": 4,
   "id": "bb0b7ee0-6563-422c-9838-ab0823abc269",
   "metadata": {},
   "outputs": [
    {
     "ename": "KeyboardInterrupt",
     "evalue": "",
     "output_type": "error",
     "traceback": [
      "\u001b[0;31m---------------------------------------------------------------------------\u001b[0m",
      "\u001b[0;31mKeyboardInterrupt\u001b[0m                         Traceback (most recent call last)",
      "\u001b[0;32m<ipython-input-4-f23d171d8036>\u001b[0m in \u001b[0;36m<module>\u001b[0;34m\u001b[0m\n\u001b[0;32m----> 1\u001b[0;31m \u001b[0mprime_factorswhile\u001b[0m\u001b[0;34m(\u001b[0m\u001b[0;36m600851475143\u001b[0m\u001b[0;34m)\u001b[0m\u001b[0;34m\u001b[0m\u001b[0;34m\u001b[0m\u001b[0m\n\u001b[0m",
      "\u001b[0;32m<ipython-input-3-364bd3f3aa9a>\u001b[0m in \u001b[0;36mprime_factorswhile\u001b[0;34m(n)\u001b[0m\n\u001b[1;32m      2\u001b[0m     \u001b[0mprime_divisors\u001b[0m\u001b[0;34m=\u001b[0m\u001b[0;34m[\u001b[0m\u001b[0;34m]\u001b[0m\u001b[0;34m\u001b[0m\u001b[0;34m\u001b[0m\u001b[0m\n\u001b[1;32m      3\u001b[0m     \u001b[0;32mfor\u001b[0m \u001b[0mi\u001b[0m \u001b[0;32min\u001b[0m \u001b[0mrange\u001b[0m \u001b[0;34m(\u001b[0m\u001b[0;36m2\u001b[0m\u001b[0;34m,\u001b[0m\u001b[0mn\u001b[0m\u001b[0;34m+\u001b[0m\u001b[0;36m1\u001b[0m\u001b[0;34m)\u001b[0m\u001b[0;34m:\u001b[0m\u001b[0;34m\u001b[0m\u001b[0;34m\u001b[0m\u001b[0m\n\u001b[0;32m----> 4\u001b[0;31m         \u001b[0;32mwhile\u001b[0m \u001b[0mn\u001b[0m\u001b[0;34m%\u001b[0m\u001b[0mi\u001b[0m\u001b[0;34m==\u001b[0m\u001b[0;36m0\u001b[0m\u001b[0;34m:\u001b[0m\u001b[0;34m\u001b[0m\u001b[0;34m\u001b[0m\u001b[0m\n\u001b[0m\u001b[1;32m      5\u001b[0m             \u001b[0mprime_divisors\u001b[0m\u001b[0;34m.\u001b[0m\u001b[0mappend\u001b[0m\u001b[0;34m(\u001b[0m\u001b[0mi\u001b[0m\u001b[0;34m)\u001b[0m\u001b[0;34m\u001b[0m\u001b[0;34m\u001b[0m\u001b[0m\n\u001b[1;32m      6\u001b[0m             \u001b[0mn\u001b[0m\u001b[0;34m=\u001b[0m\u001b[0mn\u001b[0m\u001b[0;34m/\u001b[0m\u001b[0mi\u001b[0m\u001b[0;34m\u001b[0m\u001b[0;34m\u001b[0m\u001b[0m\n",
      "\u001b[0;31mKeyboardInterrupt\u001b[0m: "
     ]
    }
   ],
   "source": [
    "prime_factorswhile(600851475143)"
   ]
  },
  {
   "cell_type": "code",
   "execution_count": null,
   "id": "5a75513c-2dd6-4876-b6f6-67744a83ed5d",
   "metadata": {},
   "outputs": [],
   "source": []
  },
  {
   "cell_type": "code",
   "execution_count": null,
   "id": "143c9db6-bb91-4b0d-9ca8-e390aa0f4af5",
   "metadata": {},
   "outputs": [],
   "source": []
  }
 ],
 "metadata": {
  "kernelspec": {
   "display_name": "Python 3",
   "language": "python",
   "name": "python3"
  },
  "language_info": {
   "codemirror_mode": {
    "name": "ipython",
    "version": 3
   },
   "file_extension": ".py",
   "mimetype": "text/x-python",
   "name": "python",
   "nbconvert_exporter": "python",
   "pygments_lexer": "ipython3",
   "version": "3.8.8"
  }
 },
 "nbformat": 4,
 "nbformat_minor": 5
}
